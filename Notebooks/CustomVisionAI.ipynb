{
  "cells": [
    {
      "metadata": {
        "trusted": true
      },
      "cell_type": "code",
      "source": "!pip install azure-cognitiveservices-vision-customvision",
      "execution_count": 4,
      "outputs": [
        {
          "output_type": "stream",
          "text": "Collecting azure-cognitiveservices-vision-customvision\n\u001b[?25l  Downloading https://files.pythonhosted.org/packages/20/a4/869552805373199b1dc026c5317e9e936d2e0302e2c09636d917a89b9d2d/azure_cognitiveservices_vision_customvision-0.4.0-py2.py3-none-any.whl (93kB)\n\u001b[K    100% |████████████████████████████████| 102kB 3.8MB/s a 0:00:01\n\u001b[?25hRequirement already satisfied: azure-common~=1.1 in /home/nbuser/anaconda3_501/lib/python3.6/site-packages (from azure-cognitiveservices-vision-customvision) (1.1.18)\nRequirement already satisfied: msrest>=0.5.0 in /home/nbuser/anaconda3_501/lib/python3.6/site-packages (from azure-cognitiveservices-vision-customvision) (0.6.4)\nRequirement already satisfied: certifi>=2017.4.17 in /home/nbuser/anaconda3_501/lib/python3.6/site-packages (from msrest>=0.5.0->azure-cognitiveservices-vision-customvision) (2018.10.15)\nRequirement already satisfied: isodate>=0.6.0 in /home/nbuser/anaconda3_501/lib/python3.6/site-packages (from msrest>=0.5.0->azure-cognitiveservices-vision-customvision) (0.6.0)\nRequirement already satisfied: requests-oauthlib>=0.5.0 in /home/nbuser/anaconda3_501/lib/python3.6/site-packages (from msrest>=0.5.0->azure-cognitiveservices-vision-customvision) (1.2.0)\nRequirement already satisfied: requests~=2.16 in /home/nbuser/anaconda3_501/lib/python3.6/site-packages (from msrest>=0.5.0->azure-cognitiveservices-vision-customvision) (2.21.0)\nRequirement already satisfied: six in /home/nbuser/anaconda3_501/lib/python3.6/site-packages (from isodate>=0.6.0->msrest>=0.5.0->azure-cognitiveservices-vision-customvision) (1.11.0)\nRequirement already satisfied: oauthlib>=3.0.0 in /home/nbuser/anaconda3_501/lib/python3.6/site-packages (from requests-oauthlib>=0.5.0->msrest>=0.5.0->azure-cognitiveservices-vision-customvision) (3.0.1)\nRequirement already satisfied: chardet<3.1.0,>=3.0.2 in /home/nbuser/anaconda3_501/lib/python3.6/site-packages (from requests~=2.16->msrest>=0.5.0->azure-cognitiveservices-vision-customvision) (3.0.4)\nRequirement already satisfied: urllib3<1.25,>=1.21.1 in /home/nbuser/anaconda3_501/lib/python3.6/site-packages (from requests~=2.16->msrest>=0.5.0->azure-cognitiveservices-vision-customvision) (1.23)\nRequirement already satisfied: idna<2.9,>=2.5 in /home/nbuser/anaconda3_501/lib/python3.6/site-packages (from requests~=2.16->msrest>=0.5.0->azure-cognitiveservices-vision-customvision) (2.7)\nInstalling collected packages: azure-cognitiveservices-vision-customvision\nSuccessfully installed azure-cognitiveservices-vision-customvision-0.4.0\n",
          "name": "stdout"
        }
      ]
    },
    {
      "metadata": {
        "trusted": true
      },
      "cell_type": "code",
      "source": "from azure.cognitiveservices.vision.customvision.training import CustomVisionTrainingClient\nfrom azure.cognitiveservices.vision.customvision.training.models import ImageFileCreateEntry\n\nENDPOINT = \"https://southcentralus.api.cognitive.microsoft.com\"\n\n# Replace with a valid keys\ntraining_key = \"Insert Training Key\"\nprediction_key = \"Insert Predication Key\"\nprojectid =\"Insert Project ID\"\niterationid=\"Insert Iteration ID\"\n",
      "execution_count": 18,
      "outputs": []
    },
    {
      "metadata": {
        "trusted": true
      },
      "cell_type": "code",
      "source": "from azure.cognitiveservices.vision.customvision.prediction import CustomVisionPredictionClient\n\n# Now there is a trained endpoint that can be used to make a prediction\n\npredictor = CustomVisionPredictionClient(prediction_key, endpoint=ENDPOINT)\n\ntest_img_url =\"https://sneakerbardetroit.com/wp-content/uploads/2015/04/nike-free-trainer-5_0-v6-2015-5.jpg\"\nresults = predictor.predict_image_url(projectid, iterationid, url=test_img_url)\n\n# Display the results.\nfor prediction in results.predictions:\n    print (\"\\t\" + prediction.tag_name + \": {0:.2f}%\".format(prediction.probability * 100))",
      "execution_count": 20,
      "outputs": [
        {
          "output_type": "stream",
          "text": "\tNike: 78.86%\n\tAdidas: 21.14%\n",
          "name": "stdout"
        }
      ]
    }
  ],
  "metadata": {
    "kernelspec": {
      "name": "python36",
      "display_name": "Python 3.6",
      "language": "python"
    },
    "language_info": {
      "mimetype": "text/x-python",
      "nbconvert_exporter": "python",
      "name": "python",
      "pygments_lexer": "ipython3",
      "version": "3.6.6",
      "file_extension": ".py",
      "codemirror_mode": {
        "version": 3,
        "name": "ipython"
      }
    }
  },
  "nbformat": 4,
  "nbformat_minor": 1
}